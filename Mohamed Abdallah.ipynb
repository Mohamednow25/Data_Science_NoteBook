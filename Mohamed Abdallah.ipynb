{
 "cells": [
  {
   "cell_type": "markdown",
   "metadata": {},
   "source": [
    "<h1>My Jupyter Notebook for IBM Data Science Final!</h1>"
   ]
  },
  {
   "cell_type": "markdown",
   "metadata": {},
   "source": [
    "<p>Data science is a facinating field and I have always wanted to study big data and I'm glad to take this course as an introduction!</p>"
   ]
  },
  {
   "cell_type": "markdown",
   "metadata": {},
   "source": [
    "<h4> Data Science Languages</h4>\n",
    "<li>Python\n",
    "<li>SQL\n",
    "<li>R\n",
    "<li>Julia\n",
    "<li>JavaScript\n",
    "<li>Scala\n",
    "<li>Java\n",
    "<li>Go\n",
    "<li>MATLAB\n",
    "<li>C\n",
    "<li>C++"
   ]
  },
  {
   "cell_type": "markdown",
   "metadata": {},
   "source": [
    "<h4> Data Science Libraries</h4>\n",
    "<li>TensorFlow\n",
    "<li>NumPy\n",
    "<li>SciPy \n",
    "<li>Pandas\n",
    "<li>Matplotlib \n",
    "<li>Keras\n",
    "<li>PyTorch"
   ]
  },
  {
   "cell_type": "markdown",
   "metadata": {},
   "source": [
    "<table>\n",
    "  <tr>\n",
    "    <th>SAS</th>\n",
    "  </tr>\n",
    "<tbody>\n",
    "  <tr>\n",
    "    <td>Pandas</td>\n",
    "  </tr>\n",
    "  <tr>\n",
    "    <td>NumPy</td>\n",
    "  </tr>\n",
    "  <tr>\n",
    "    <td>Scrapy</td>\n",
    "  </tr>\n",
    "</tbody>\n",
    "</table>"
   ]
  },
  {
   "cell_type": "code",
   "execution_count": 1,
   "metadata": {},
   "outputs": [
    {
     "name": "stdout",
     "output_type": "stream",
     "text": [
      "Enter a number 10\n",
      "Enter a number 20\n",
      "30\n",
      "200\n"
     ]
    }
   ],
   "source": [
    "var1 = int(input(\"Enter a number \"))\n",
    "var2 = int(input(\"Enter a number \"))\n",
    "print(var1+var2)\n",
    "print(var1*var2)"
   ]
  },
  {
   "cell_type": "code",
   "execution_count": 2,
   "metadata": {},
   "outputs": [
    {
     "name": "stdout",
     "output_type": "stream",
     "text": [
      "enter minutes 180\n",
      "3\n"
     ]
    }
   ],
   "source": [
    "minutes = int(input(\"enter minutes \"))\n",
    "print(minutes//60)"
   ]
  },
  {
   "cell_type": "markdown",
   "metadata": {},
   "source": [
    "<li>This Notebook has a header\n",
    "<li>introduction\n",
    "<li>a language list\n",
    "<li>a libaries list\n",
    "<li>a tools table\n",
    "<li>2 code snippets!"
   ]
  },
  {
   "cell_type": "markdown",
   "metadata": {},
   "source": [
    "<h2>Mohamed Abdallah,</h2>\n",
    "<h3>Software Engineer</h3>"
   ]
  }
 ],
 "metadata": {
  "kernelspec": {
   "display_name": "Python 3 (ipykernel)",
   "language": "python",
   "name": "python3"
  },
  "language_info": {
   "codemirror_mode": {
    "name": "ipython",
    "version": 3
   },
   "file_extension": ".py",
   "mimetype": "text/x-python",
   "name": "python",
   "nbconvert_exporter": "python",
   "pygments_lexer": "ipython3",
   "version": "3.9.13"
  }
 },
 "nbformat": 4,
 "nbformat_minor": 4
}
