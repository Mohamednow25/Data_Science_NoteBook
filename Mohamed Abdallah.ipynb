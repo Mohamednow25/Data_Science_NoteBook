{
 "cells": [
  {
   "cell_type": "markdown",
   "metadata": {},
   "source": [
    "<h1>My Jupyter Notebook on IBM Watson Studio</h1>"
   ]
  },
  {
   "cell_type": "markdown",
   "metadata": {},
   "source": [
    "<b>Mohamed Abdallah,</b><br>\n",
    "<p>Software Engineer</p>"
   ]
  },
  {
   "cell_type": "markdown",
   "metadata": {},
   "source": [
    "<p>Data science is a facinating field and I have always wanted to study big data and I'm glad to take this course as an introduction!</p>"
   ]
  },
  {
   "cell_type": "markdown",
   "metadata": {},
   "source": [
    "<p>My code takes a variable 'M', square it, and print it!</p>"
   ]
  },
  {
   "cell_type": "code",
   "execution_count": 1,
   "metadata": {},
   "outputs": [
    {
     "name": "stdout",
     "output_type": "stream",
     "text": [
      "Enter a length 10\n",
      "This length will make a square 100 CM2 big!\n"
     ]
    }
   ],
   "source": [
    "M = int(input(\"Enter a length \"))\n",
    "print(f\"This length will make a square {M*M} CM2 big!\")"
   ]
  },
  {
   "cell_type": "markdown",
   "metadata": {},
   "source": [
    "<li>This is a list\n",
    "<li>For some reason this was a requirement!\n",
    "<li> I got 100% on all tests so please help me and max out this score! Thank you!\n",
    "<br>\n",
    "<img src=1.img alt=\" You can change the source and the photo will load and display!\">\n",
    "<br>\n",
    "<s>Another One Was A StrikeThrough Text</s>, So here we are!"
   ]
  }
 ],
 "metadata": {
  "kernelspec": {
   "display_name": "Python 3 (ipykernel)",
   "language": "python",
   "name": "python3"
  },
  "language_info": {
   "codemirror_mode": {
    "name": "ipython",
    "version": 3
   },
   "file_extension": ".py",
   "mimetype": "text/x-python",
   "name": "python",
   "nbconvert_exporter": "python",
   "pygments_lexer": "ipython3",
   "version": "3.9.13"
  }
 },
 "nbformat": 4,
 "nbformat_minor": 4
}
